{
  "nbformat": 4,
  "nbformat_minor": 0,
  "metadata": {
    "colab": {
      "provenance": [],
      "authorship_tag": "ABX9TyM0dkYV9vrjBIMRkShYKgJv",
      "include_colab_link": true
    },
    "kernelspec": {
      "name": "python3",
      "display_name": "Python 3"
    },
    "language_info": {
      "name": "python"
    }
  },
  "cells": [
    {
      "cell_type": "markdown",
      "metadata": {
        "id": "view-in-github",
        "colab_type": "text"
      },
      "source": [
        "<a href=\"https://colab.research.google.com/github/lilwijs/sukriti/blob/main/SE_task_2.ipynb\" target=\"_parent\"><img src=\"https://colab.research.google.com/assets/colab-badge.svg\" alt=\"Open In Colab\"/></a>"
      ]
    },
    {
      "cell_type": "code",
      "execution_count": 1,
      "metadata": {
        "colab": {
          "base_uri": "https://localhost:8080/"
        },
        "id": "BZ9XNsdu23Cd",
        "outputId": "92500915-f274-44ac-917a-6f811189a897"
      },
      "outputs": [
        {
          "output_type": "stream",
          "name": "stdout",
          "text": [
            "Hardcoded Addition: 10 + 20 = 30\n"
          ]
        }
      ],
      "source": [
        "# @title Version 1: Hardcoding Variables\n",
        "\n",
        "# Hardcoded variables\n",
        "\n",
        "a = 10\n",
        "b = 20\n",
        "\n",
        "result = a + b\n",
        "\n",
        "print(f\"Hardcoded Addition: {a} + {b} = {result}\")"
      ]
    },
    {
      "cell_type": "code",
      "source": [
        "# @title Version 2: Keyboard Input\n",
        "\n",
        "# Keyboard input\n",
        "\n",
        "try:\n",
        "    x = int(input(\"Enter the first number: \"))\n",
        "    y = int(input(\"Enter the second number: \"))\n",
        "    result = x + y\n",
        "    print(f\"User Input Addition: {x} + {y} = {result}\")\n",
        "except ValueError:\n",
        "    print(\"Please enter valid integers!\")"
      ],
      "metadata": {
        "colab": {
          "base_uri": "https://localhost:8080/"
        },
        "id": "pL75icuQ5prJ",
        "outputId": "1b8afe3f-53d4-49e2-b471-1ed7cd820fd6"
      },
      "execution_count": 2,
      "outputs": [
        {
          "output_type": "stream",
          "name": "stdout",
          "text": [
            "Enter the first number: 20\n",
            "Enter the second number: 18\n",
            "User Input Addition: 20 + 18 = 38\n"
          ]
        }
      ]
    },
    {
      "cell_type": "code",
      "source": [
        "#@title Version 3: Read From File (Single Input)\n",
        "\n",
        "# Save the file in the runtime (for demonstration)\n",
        "\n",
        "with open(\"single_input.txt\", \"w\") as f:\n",
        "    f.write(\"42\")\n",
        "\n",
        "# Reading single input from a file\n",
        "\n",
        "try:\n",
        "    with open(\"single_input.txt\", \"r\") as f:\n",
        "        num = int(f.read().strip())\n",
        "        result = num * 2\n",
        "        print(f\"Single Input Read from File: {num} * 2 = {result}\")\n",
        "except FileNotFoundError:\n",
        "    print(\"File not found!\")\n",
        "except ValueError:\n",
        "    print(\"Error in reading or converting the input!\")"
      ],
      "metadata": {
        "colab": {
          "base_uri": "https://localhost:8080/"
        },
        "id": "JjHTTBl-6WRC",
        "outputId": "a7ee9445-72ae-40ef-80a8-b007ffa099c3"
      },
      "execution_count": 3,
      "outputs": [
        {
          "output_type": "stream",
          "name": "stdout",
          "text": [
            "Single Input Read from File: 42 * 2 = 84\n"
          ]
        }
      ]
    },
    {
      "cell_type": "code",
      "source": [
        "#@title Version 4: Read From File (Multiple Inputs)\n",
        "\n",
        "# Save a file with multiple inputs\n",
        "with open(\"multiple_inputs.txt\", \"w\") as f:\n",
        "    f.write(\"3\\n5\\n7\")\n",
        "\n",
        "# Reading multiple inputs from a file\n",
        "try:\n",
        "    with open(\"multiple_inputs.txt\", \"r\") as f:\n",
        "        numbers = [int(line.strip()) for line in f.readlines()]\n",
        "        result = sum(numbers)\n",
        "        print(f\"Multiple Inputs Read from File: {numbers}, Sum = {result}\")\n",
        "except FileNotFoundError:\n",
        "    print(\"File not found!\")\n",
        "except ValueError:\n",
        "    print(\"Error in reading or converting the inputs!\")"
      ],
      "metadata": {
        "colab": {
          "base_uri": "https://localhost:8080/"
        },
        "id": "N59ULe2t67Oh",
        "outputId": "3ab11c1b-f226-49b9-c5d4-a974e2d68701"
      },
      "execution_count": 4,
      "outputs": [
        {
          "output_type": "stream",
          "name": "stdout",
          "text": [
            "Multiple Inputs Read from File: [3, 5, 7], Sum = 15\n"
          ]
        }
      ]
    }
  ]
}